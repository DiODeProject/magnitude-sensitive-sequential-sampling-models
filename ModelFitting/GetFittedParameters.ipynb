{
 "cells": [
  {
   "cell_type": "markdown",
   "metadata": {},
   "source": [
    "# This interactive notebook displays results from the model fitting study.\n",
    "\n",
    "## This includes mean values and standard deviations of the BIC and all model parameters "
   ]
  },
  {
   "cell_type": "markdown",
   "metadata": {},
   "source": [
    "### Let's import the necessary modules ..."
   ]
  },
  {
   "cell_type": "code",
   "execution_count": null,
   "metadata": {
    "collapsed": true
   },
   "outputs": [],
   "source": [
    "import numpy as np\n",
    "import pandas as pd\n",
    "pd.options.display.max_colwidth = 500"
   ]
  },
  {
   "cell_type": "markdown",
   "metadata": {},
   "source": [
    "### ... and choose the data-generating model (`chooseDataGeneratingModel`) and the data set number (`dataSetNr`)\n",
    "\n",
    "#### Those two quantities are the only quantities that need to be specified.  Possible values can be found in the comments in the next cell."
   ]
  },
  {
   "cell_type": "code",
   "execution_count": null,
   "metadata": {
    "collapsed": false
   },
   "outputs": [],
   "source": [
    "chooseDataGeneratingModel = \"LCA\" # \"pDDM\", \"mDDM\", mSOU\", \"mUOU\", \"LCA\"\n",
    "dataSetNr = 1 # 1,2,3,4 or 5"
   ]
  },
  {
   "cell_type": "markdown",
   "metadata": {},
   "source": [
    "### This cell does the data lookup ..."
   ]
  },
  {
   "cell_type": "code",
   "execution_count": null,
   "metadata": {
    "collapsed": false
   },
   "outputs": [],
   "source": [
    "fittedModels = [\"pDDM\", \"mDDM\", \"mSOU\", \"mUOU\", \"LCA\"]\n",
    "paramsDataGen = {}\n",
    "paramsFitting = {}\n",
    "\n",
    "dataSetConversion = {'1': '1', '2': '6', '3': '9', '4': '13', '5': '19'}\n",
    "RID = dataSetConversion[str(dataSetNr)]\n",
    "\n",
    "if chooseDataGeneratingModel == \"mSOU\":\n",
    "    locDataGen = 1\n",
    "elif chooseDataGeneratingModel == \"mUOU\":\n",
    "    locDataGen = 5\n",
    "elif chooseDataGeneratingModel == \"mDDM\":\n",
    "    locDataGen = 9\n",
    "elif chooseDataGeneratingModel == \"pDDM\":\n",
    "    locDataGen = 13\n",
    "else:\n",
    "    locDataGen = 1\n",
    "\n",
    "if chooseDataGeneratingModel == \"LCA\":\n",
    "    modelType = \"LCA\"\n",
    "else:\n",
    "    modelType = \"DDMOU\"\n",
    "    \n",
    "tableDataGen = pd.read_csv(\"../DataGeneration/ModelMimicry2019_DataGeneration/\"+str(modelType)+\"_DataGeneration_\"+str(RID)+\n",
    "                    \"/\"+str(modelType)+\"-24Jun2019-\"+str(RID)+\".txt\", delimiter=\"\\n\", skiprows=0, header=None)\n",
    "\n",
    "str1=str(tableDataGen.iloc[locDataGen,:])\n",
    "if \"threshold\" in str1:\n",
    "    paramsDataGen[\"z\"] = round(float(str1[str1.find(\"threshold\")+12:str1.find(\"threshold\")+18]), 3)\n",
    "\n",
    "if \"growth\" in str1:\n",
    "    paramsDataGen[\"B\"] = round(float(str1[str1.find(\"growth\")+9:str1.find(\"growth\")+15]), 3)\n",
    "elif \"decay\" in str1:\n",
    "    paramsDataGen[\"B\"] = round(float(str1[str1.find(\"decay\")+8:str1.find(\"decay\")+15]), 3)\n",
    "elif chooseDataGeneratingModel in [\"pDDM\", \"mDDM\"]:\n",
    "    paramsDataGen[\"B\"] = 0\n",
    "else:\n",
    "    paramsDataGen[\"B\"] = None\n",
    "\n",
    "if \"gamma\" in str1:\n",
    "    paramsDataGen[\"gamma\"] = round(float(str1[str1.find(\"gamma\")+8:str1.find(\"gamma\")+15]), 3)\n",
    "\n",
    "if \"coeff_multiplicNoise\" in str1:\n",
    "    if chooseDataGeneratingModel in [\"pDDM\"]:\n",
    "        paramsDataGen[\"Phi\"] = 0\n",
    "    else:\n",
    "        paramsDataGen[\"Phi\"] = round(float(str1[str1.find(\"coeff_multiplicNoise\")\n",
    "                                                +23:str1.find(\"coeff_multiplicNoise\")+30]), 3)\n",
    "else:\n",
    "    paramsDataGen[\"Phi\"] = None\n",
    "\n",
    "if \"drift variability\" in str1:\n",
    "    paramsDataGen[\"sigma_drift\"] = round(float(str1[str1.find(\"drift variability\")                                           +20:str1.find(\"drift variability\")+27]), 3)\n",
    "else:\n",
    "    paramsDataGen[\"sigma_drift\"] = None\n",
    "\n",
    "if \"SPV\" in str1:\n",
    "    paramsDataGen[\"SPV\"] = round(float(str1[str1.find(\"SPV\")+5:str1.find(\"SPV\")+12]), 3)\n",
    "\n",
    "if \"leak\" in str1:\n",
    "    paramsDataGen[\"k\"] = round(float(str1[str1.find(\"leak\")+7:str1.find(\"leak\")+14]), 3)\n",
    "else:\n",
    "    paramsDataGen[\"k\"] = None\n",
    "\n",
    "if \"beta\" in str1:\n",
    "    paramsDataGen[\"beta\"] = round(float(str1[str1.find(\"beta\")+7:str1.find(\"beta\")+14]), 3)\n",
    "else:\n",
    "    paramsDataGen[\"beta\"] = None\n",
    "\n",
    "listDataGen = [[str(dataSetNr), str(chooseDataGeneratingModel), paramsDataGen[\"z\"], paramsDataGen[\"B\"], paramsDataGen[\"gamma\"], paramsDataGen[\"Phi\"], \n",
    "       paramsDataGen[\"sigma_drift\"], paramsDataGen[\"SPV\"], paramsDataGen[\"k\"], paramsDataGen[\"beta\"]]]\n",
    "dfDataGen = pd.DataFrame(listDataGen, columns=[\"data set nr\", \"data generating model\", \"z\", \"B\", \"gamma\", \"Phi\", \"sigma_drift\", \"SPV\", \"k\", \"beta\"])\n",
    "\n",
    "for model in fittedModels:\n",
    "    mean_std = []\n",
    "    if model == chooseDataGeneratingModel:\n",
    "        dataFile_to_open = '../ModelFitting/ModelMimicry2019_ModelFits_FinalPaper_Ftol100_FittedModel_SameAs_DataModel_Only/'+\\\n",
    "        'ModelMimicry2019_PAPER_' + str(RID) + '/Fit_to_' + str(chooseDataGeneratingModel) + '_data' +\\\n",
    "        '/Fit_' + str(model) + '_to_' + str(chooseDataGeneratingModel) + '/OutParamsFinalMeanStd.csv'\n",
    "    elif chooseDataGeneratingModel == 'pDDM' and model =='LCA':\n",
    "        dataFile_to_open = '../ModelFitting/ModelMimicry2019_ModelFits_FinalPaper_Ftol500_LCA_to_pDDM_Fits_Only_k_equal_beta_differentBetaInit/'+\\\n",
    "        'ModelMimicry2019_PAPER_' + str(RID) + '/Fit_to_' + str(chooseDataGeneratingModel) + '_data' +\\\n",
    "        '/Fit_' + str(model) + '_to_' + str(chooseDataGeneratingModel) + '/OutParamsFinalMeanStd.csv'\n",
    "    elif chooseDataGeneratingModel != 'LCA':\n",
    "        dataFile_to_open = '../ModelFitting/ModelMimicry2019_ModelFits_FinalPaper_Ftol500/'+\\\n",
    "        'ModelMimicry2019_PAPER_' + str(RID) + '/Fit_to_' + str(chooseDataGeneratingModel) + '_data' +\\\n",
    "        '/Fit_' + str(model) + '_to_' + str(chooseDataGeneratingModel) + '/OutParamsFinalMeanStd.csv'\n",
    "    else:\n",
    "        if dataSetNr == 1 or dataSetNr == 2 or dataSetNr == 5:\n",
    "            if model in ['mSOU','pDDM', 'mDDM']:\n",
    "                fTolerance = 2000\n",
    "            else:\n",
    "                fTolerance = 1000\n",
    "        elif dataSetNr == 3:\n",
    "            if model == 'mSOU' or model == 'mDDM':\n",
    "                fTolerance = 2000\n",
    "            else:\n",
    "                fTolerance = 1000\n",
    "        else:\n",
    "            fTolerance=1000\n",
    "        dataFile_to_open = '../ModelFitting/ModelMimicry2019_ModelFits_FinalPaper_Ftol'+ str(fTolerance) +\\\n",
    "        '/ModelMimicry2019_PAPER_' + str(RID) + '/Fit_to_' + str(chooseDataGeneratingModel) + '_data' +\\\n",
    "        '/Fit_' + str(model) + '_to_' + str(chooseDataGeneratingModel) + '/OutParamsFinalMeanStd.csv'\n",
    "        \n",
    "    with open(dataFile_to_open, 'r') as infile:\n",
    "        #SCORE, ['threshold', 'gamma', 'SPV', 'driftVar', 'noiseCoeff']\n",
    "        infile.readline\n",
    "        for line in infile:\n",
    "            if not line.startswith('#'): \n",
    "                list1 = line.split(' ')\n",
    "                list2 = [y for y in list1 if y != '']\n",
    "                list2[-1] = list2[-1][:-1]\n",
    "                list2 = [round(float(y),3) if float(y) <100000 else round(float(y),3) for y in list2]\n",
    "                mean_std.append(list2)\n",
    "    score = [int(round(mean_std[0][0],0)), int(round(mean_std[1][0],0))]\n",
    "    threshVal = [mean_std[0][1], mean_std[1][1]]\n",
    "    gammaVal = [mean_std[0][2], mean_std[1][2]]\n",
    "    SPVVal = [mean_std[0][3], mean_std[1][3]]\n",
    "    if model == 'LCA':\n",
    "        kVal = [mean_std[0][4], mean_std[1][4]]\n",
    "        BVal = [None, None]\n",
    "        PhiVal = [None, None]\n",
    "        sigmaDriftVal = [None, None]\n",
    "        if chooseDataGeneratingModel == 'pDDM':\n",
    "            betaVal = [mean_std[0][4], mean_std[1][4]]\n",
    "        else:\n",
    "            betaVal = [mean_std[0][5], mean_std[1][5]]\n",
    "    elif model == 'mDDM':\n",
    "        sigmaDriftVal = [mean_std[0][4], mean_std[1][4]]\n",
    "        PhiVal = [mean_std[0][5], mean_std[1][5]]\n",
    "        BVal = [0, 0]\n",
    "        betaVal = [None, None]\n",
    "        kVal = [None, None]\n",
    "    elif model == 'mSOU' or model == 'mUOU':\n",
    "        sigmaDriftVal = [mean_std[0][4], mean_std[1][4]]\n",
    "        PhiVal = [mean_std[0][5], mean_std[1][5]]\n",
    "        BVal = [mean_std[0][6], mean_std[1][6]]\n",
    "        betaVal = [None, None]\n",
    "        kVal = [None, None]\n",
    "    elif model == 'pDDM':\n",
    "        sigmaDriftVal = [mean_std[0][4], mean_std[1][4]]\n",
    "        PhiVal = [0, 0]\n",
    "        BVal = [0, 0]\n",
    "        betaVal = [None, None]\n",
    "        kVal = [None, None]\n",
    "        \n",
    "    paramsFitting[model] = {\"BIC\": score, \"z\": threshVal, \"B\": BVal, \"gamma\": gammaVal, \"Phi\": PhiVal, \n",
    "                            \"sigma_drift\": sigmaDriftVal, \"SPV\": SPVVal, \"k\": kVal, \"beta\": betaVal}\n",
    "    \n",
    "listModelFits = [[\"pDDM (mean)\", \"pDDM (std)\", \"mDDM (mean)\", \"mDDM (std)\", \"mSOU (mean)\", \"mSOU (std)\",\n",
    "                  \"mUOU (mean)\", \"mUOU (std)\", \"LCA (mean)\", \"LCA (std)\"],\n",
    "                 [paramsFitting[mod][\"BIC\"][y] for mod in fittedModels for y in [0,1]],\n",
    "                 [paramsFitting[mod][\"z\"][y] for mod in fittedModels for y in [0,1]],\n",
    "                 [paramsFitting[mod][\"B\"][y] for mod in fittedModels for y in [0,1]], \n",
    "                 [paramsFitting[mod][\"gamma\"][y] for mod in fittedModels for y in [0,1]],\n",
    "                 [paramsFitting[mod][\"Phi\"][y] for mod in fittedModels for y in [0,1]],\n",
    "                 [paramsFitting[mod][\"sigma_drift\"][y] for mod in fittedModels for y in [0,1]],\n",
    "                 [paramsFitting[mod][\"SPV\"][y] for mod in fittedModels for y in [0,1]], \n",
    "                 [paramsFitting[mod][\"k\"][y] for mod in fittedModels for y in [0,1]],\n",
    "                 [paramsFitting[mod][\"beta\"][y] for mod in fittedModels for y in [0,1]]]\n",
    "\n",
    "dfModelFits = pd.DataFrame(np.asarray(listModelFits).transpose(), columns=[\"fitted model\", \"BIC\", \"z\", \"B\", \"gamma\", \n",
    "                                                 \"Phi\", \"sigma_drift\", \"SPV\", \"k\", \"beta\"])\n"
   ]
  },
  {
   "cell_type": "markdown",
   "metadata": {},
   "source": [
    "### The following cell displays the parameters of the data-generating model:"
   ]
  },
  {
   "cell_type": "code",
   "execution_count": null,
   "metadata": {
    "collapsed": false
   },
   "outputs": [],
   "source": [
    "print(\"########################################################################\")\n",
    "print(\"#######################   Data Generation   ############################\")\n",
    "print(\"########################################################################\")\n",
    "dfDataGen"
   ]
  },
  {
   "cell_type": "markdown",
   "metadata": {},
   "source": [
    "### Here we can see the parameters of the fitted models including the value of the objective function (BIC). \n",
    "\n",
    "#### The data-generating model as well as the data set number are printed again for convenience. Shown are mean values and standard deviations."
   ]
  },
  {
   "cell_type": "code",
   "execution_count": null,
   "metadata": {
    "collapsed": false
   },
   "outputs": [],
   "source": [
    "print(\"########################################################################\")\n",
    "print(\"#########################   ModelFitting   #############################\")\n",
    "print(\"########################################################################\")\n",
    "print(\"################     Data Generating Model: \" + str(chooseDataGeneratingModel) + \"      ###################\")\n",
    "print(\"################            Data Set Nr: \" + str(dataSetNr) + \"          ####################\")\n",
    "print(\"########################################################################\")\n",
    "dfModelFits"
   ]
  },
  {
   "cell_type": "markdown",
   "metadata": {},
   "source": [
    "### Finally, all tables can be exported as `csv-files`.\n",
    "\n",
    "#### Important information about the data-generating model and the data set number is contained in the filename. All files were already generated and can be found in the `CSV_Files` folder. The following cell may be used to re-genrate these files."
   ]
  },
  {
   "cell_type": "code",
   "execution_count": null,
   "metadata": {
    "collapsed": false
   },
   "outputs": [],
   "source": [
    "#dfModelFits.to_csv(index=False, path_or_buf=\"./CSV_Files/ModelParams_Fits_to_\"\n",
    "#                   + str(chooseDataGeneratingModel) + \"_data_DataSetNr_\" + str(dataSetNr) + \".csv\")"
   ]
  },
  {
   "cell_type": "code",
   "execution_count": null,
   "metadata": {
    "collapsed": false
   },
   "outputs": [],
   "source": [
    "0.6**0.5"
   ]
  },
  {
   "cell_type": "code",
   "execution_count": null,
   "metadata": {
    "collapsed": true
   },
   "outputs": [],
   "source": []
  }
 ],
 "metadata": {
  "kernelspec": {
   "display_name": "Python 3",
   "language": "python",
   "name": "python3"
  },
  "language_info": {
   "codemirror_mode": {
    "name": "ipython",
    "version": 3
   },
   "file_extension": ".py",
   "mimetype": "text/x-python",
   "name": "python",
   "nbconvert_exporter": "python",
   "pygments_lexer": "ipython3",
   "version": "3.5.1"
  }
 },
 "nbformat": 4,
 "nbformat_minor": 0
}
